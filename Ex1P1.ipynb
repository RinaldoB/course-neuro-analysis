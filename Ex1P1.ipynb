{
 "cells": [
  {
   "cell_type": "code",
   "execution_count": null,
   "metadata": {
    "collapsed": false
   },
   "outputs": [],
   "source": [
    "%pylab"
   ]
  },
  {
   "cell_type": "code",
   "execution_count": null,
   "metadata": {
    "collapsed": true
   },
   "outputs": [],
   "source": [
    "import cPickle as pickle\n",
    "import gzip"
   ]
  },
  {
   "cell_type": "code",
   "execution_count": null,
   "metadata": {
    "collapsed": true
   },
   "outputs": [],
   "source": [
    "#data = load('PMPulse_1_6_Vmon-1.pkl')\n",
    "#pickle.dump(data,gzip.open('PMPulse_1_6_Vmon-1.pklz','wb'))"
   ]
  },
  {
   "cell_type": "code",
   "execution_count": null,
   "metadata": {
    "collapsed": false,
    "scrolled": true
   },
   "outputs": [],
   "source": [
    "# Load Data\n",
    "data = pickle.load(gzip.open('PMPulse_1_6_Vmon-1.pklz','rb'))\n",
    "dt = 1/20000. #20 kHz sampling rate"
   ]
  },
  {
   "cell_type": "code",
   "execution_count": null,
   "metadata": {
    "collapsed": false
   },
   "outputs": [],
   "source": [
    "print data.shape\n",
    "#the first dimension are sweeps with different strengths of depolarization currents (50pA steps), second dimension is time\n",
    "#stim_current = ???\n",
    "\n",
    "# select the voltage trace of the last sweep\n",
    "V = data[-1]"
   ]
  },
  {
   "cell_type": "markdown",
   "metadata": {},
   "source": [
    "## Part I"
   ]
  },
  {
   "cell_type": "markdown",
   "metadata": {},
   "source": [
    "__1)__ \n",
    "- How long is the complete voltage trace in seconds?\n",
    "- How long was the stimulation?\n",
    "- Plot the  complete voltage trace\n",
    "- Plot only the period of the stimulation\n",
    "- Set the range of the yaxis to (-75mV, 20mV)."
   ]
  },
  {
   "cell_type": "code",
   "execution_count": null,
   "metadata": {
    "collapsed": true
   },
   "outputs": [],
   "source": []
  },
  {
   "cell_type": "markdown",
   "metadata": {},
   "source": [
    "__2)__\n",
    "Using the voltage trace, determine the times at which the cell fired action potentials.\n",
    "- How many action potentials did you detect?\n",
    "- What is the average firing rate (i.e. action potentials per second) of this neuron?"
   ]
  },
  {
   "cell_type": "code",
   "execution_count": null,
   "metadata": {
    "collapsed": true
   },
   "outputs": [],
   "source": []
  },
  {
   "cell_type": "markdown",
   "metadata": {},
   "source": [
    "__3)__ Spike Triggered Average (STA)\n",
    "\n",
    "Now determine the average waveform of an action potential. To this end you need to get  all AP onset times to obtain a cut-out of about +/- 10 ms around the onset time and average across all the cutouts.\n",
    "\n",
    "- Add to the plot the average waveform ± 1 standard deviation across all APs."
   ]
  },
  {
   "cell_type": "code",
   "execution_count": null,
   "metadata": {
    "collapsed": true
   },
   "outputs": [],
   "source": []
  },
  {
   "cell_type": "markdown",
   "metadata": {},
   "source": [
    "__4)__\n",
    "\n",
    "What is the mean and variance of the membrane potential distribution when excluding the action potential cutouts?\n",
    "- n the period without stimulation\n",
    "- in the period during stimulation"
   ]
  },
  {
   "cell_type": "code",
   "execution_count": null,
   "metadata": {
    "collapsed": true
   },
   "outputs": [],
   "source": []
  },
  {
   "cell_type": "markdown",
   "metadata": {},
   "source": [
    "__5)__\n",
    "\n",
    "The standard integrate-and-fire (I&F) model of a neuron assumes a fixed voltage threshold for initiating a spike. Can you determine a fixed voltage threshold that determines the onset of each spike? Repeat exercise 3 but now with a longer cut-out before the spike detection of 500ms.\n",
    "\n",
    "Plot the mean action potential in red and in addition plot two functions as mean ± standard deviation."
   ]
  },
  {
   "cell_type": "code",
   "execution_count": null,
   "metadata": {
    "collapsed": true
   },
   "outputs": [],
   "source": []
  }
 ],
 "metadata": {
  "kernelspec": {
   "display_name": "Python 2",
   "language": "python",
   "name": "python2"
  },
  "language_info": {
   "codemirror_mode": {
    "name": "ipython",
    "version": 2
   },
   "file_extension": ".py",
   "mimetype": "text/x-python",
   "name": "python",
   "nbconvert_exporter": "python",
   "pygments_lexer": "ipython2",
   "version": "2.7.11"
  }
 },
 "nbformat": 4,
 "nbformat_minor": 0
}
