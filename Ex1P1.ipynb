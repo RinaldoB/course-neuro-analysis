{
 "cells": [
  {
   "cell_type": "code",
   "execution_count": null,
   "metadata": {
    "collapsed": false
   },
   "outputs": [],
   "source": [
    "%pylab inline"
   ]
  },
  {
   "cell_type": "code",
   "execution_count": null,
   "metadata": {
    "collapsed": true
   },
   "outputs": [],
   "source": [
    "import cPickle as pickle\n",
    "import gzip"
   ]
  },
  {
   "cell_type": "code",
   "execution_count": null,
   "metadata": {
    "collapsed": false,
    "scrolled": true
   },
   "outputs": [],
   "source": [
    "# Load Data\n",
    "data = pickle.load(gzip.open('PMPulse_1_6_Vmon-1.pklz','rb'))\n",
    "dt = 1/20000. #20 kHz sampling rate\n"
   ]
  },
  {
   "cell_type": "code",
   "execution_count": null,
   "metadata": {
    "collapsed": true
   },
   "outputs": [],
   "source": [
    "# Load Data\n",
    "data = pickle.load(gzip.open('PMPulse_1_6_Vmon-1.pklz','rb'))\n",
    "sweeps_current = arange(250,601,50) #pA - amplitude of injected current for each sweep\n",
    "dt = 1/20000. #20kHz sampling rate\n",
    "\n",
    "print data.shape, 'sweeps x time'"
   ]
  },
  {
   "cell_type": "code",
   "execution_count": null,
   "metadata": {
    "collapsed": false
   },
   "outputs": [],
   "source": [
    "T = 8. #sec\n",
    "time = linspace(0,T,T/dt)\n",
    "\n",
    "stim_currents = arange(250,601,50)\n",
    "stim_start = int(1/dt)\n",
    "stim_end = int(5/dt)\n",
    "\n",
    "# select the voltage trace of the last sweep\n",
    "sweep_idx = -1\n",
    "V = data[sweep_idx]"
   ]
  },
  {
   "cell_type": "markdown",
   "metadata": {},
   "source": [
    "## Part I"
   ]
  },
  {
   "cell_type": "markdown",
   "metadata": {},
   "source": [
    "__1)__ \n",
    "- How long is the complete voltage trace in seconds?\n",
    "- How long was the stimulation?\n",
    "- Plot the  complete voltage trace\n",
    "- Plot only the period of the stimulation\n",
    "- Set the range of the yaxis to (-75mV, 20mV)."
   ]
  },
  {
   "cell_type": "code",
   "execution_count": null,
   "metadata": {
    "collapsed": true
   },
   "outputs": [],
   "source": []
  },
  {
   "cell_type": "markdown",
   "metadata": {},
   "source": [
    "__2)__\n",
    "Using the voltage trace, determine the times at which the cell fired action potentials.\n",
    "- How many action potentials did you detect?\n",
    "- What is the average firing rate (i.e. action potentials per second) of this neuron?\n",
    "- Determine the Inter-Spike-Interval distribution"
   ]
  },
  {
   "cell_type": "code",
   "execution_count": null,
   "metadata": {
    "collapsed": true
   },
   "outputs": [],
   "source": []
  },
  {
   "cell_type": "markdown",
   "metadata": {},
   "source": [
    "__3)__ Spike Triggered Average (STA)\n",
    "\n",
    "Now determine the average waveform of an action potential. To this end you need to get  all AP onset times to obtain a cut-out of about +/- 10 ms around the spike time and average across all the cutouts.\n",
    "\n",
    "- Add to the plot the average waveform ± 1 standard deviation across all APs."
   ]
  },
  {
   "cell_type": "code",
   "execution_count": null,
   "metadata": {
    "collapsed": true
   },
   "outputs": [],
   "source": []
  },
  {
   "cell_type": "markdown",
   "metadata": {},
   "source": [
    "__4)__\n",
    "\n",
    "- Get the subthreshold membrane voltage. To do so exclude the AP cutouts (+/- 10 ms around the spike time) from to voltage trace. <BR>Hint: you might use a `masked array` to mask the spikes from the voltage trace<br>i.e. `V_subthres = np.ma.masked_array(V,mask=mask_spikes`).\n",
    "\n",
    "- Plot 500ms of subthreshold voltage before stimulation and 500 ms of subthreshold voltage during stimulation\n",
    "\n",
    "- What is the mean and variance of the subthreshold membrane potential distribution\n",
    "    - before stimulation\n",
    "    - during stimulation\n",
    "    - after stmulation? (discard the first 250ms after stimulation offset)\n",
    "   \n",
    "- compare the subthreshold membrane potential distribution before/during and after stimulation.    "
   ]
  },
  {
   "cell_type": "code",
   "execution_count": null,
   "metadata": {
    "collapsed": true
   },
   "outputs": [],
   "source": []
  },
  {
   "cell_type": "markdown",
   "metadata": {},
   "source": [
    "__5)__\n",
    "\n",
    "The standard integrate-and-fire (I&F) model of a neuron assumes a fixed voltage threshold for initiating a spike and a fixed reset potential. Can you determine the reset potential and a fixed voltage threshold that determines the onset of each spike?\n",
    "\n",
    "\n",
    "- assume the reset potential is given by the minimum in the voltage after each spike. determine the mean and standart deviation of the reset potential. Does it change over time?\n",
    "\n",
    "\n",
    "- Now look at the distribution of the derivative of the membrane voltage ($\\frac{d}{dt}V_m$)\n",
    "    * assume that the membrane potential crosses threshold when $\\frac{d}{dt}V_m$ is above a critical value. What is a good choice for the critical value of $\\frac{d}{dt}V_m$?\n",
    "    * Plot the distribution of thresholds for individual spikes. Does the threshold change over time?\n",
    "    \n",
    "    * Now, instead of a critical value, assume that the threshold is given by the maxima of $\\frac{d}{dt}V_m$ and repeat the analysis.    "
   ]
  },
  {
   "cell_type": "code",
   "execution_count": null,
   "metadata": {
    "collapsed": true
   },
   "outputs": [],
   "source": []
  }
 ],
 "metadata": {
  "kernelspec": {
   "display_name": "Python 2",
   "language": "python",
   "name": "python2"
  },
  "language_info": {
   "codemirror_mode": {
    "name": "ipython",
    "version": 2
   },
   "file_extension": ".py",
   "mimetype": "text/x-python",
   "name": "python",
   "nbconvert_exporter": "python",
   "pygments_lexer": "ipython2",
   "version": "2.7.11"
  }
 },
 "nbformat": 4,
 "nbformat_minor": 0
}
