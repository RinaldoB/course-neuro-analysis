{
 "cells": [
  {
   "cell_type": "code",
   "execution_count": null,
   "metadata": {
    "collapsed": false
   },
   "outputs": [],
   "source": [
    "%pylab inline"
   ]
  },
  {
   "cell_type": "code",
   "execution_count": null,
   "metadata": {
    "collapsed": true
   },
   "outputs": [],
   "source": [
    "import cPickle as pickle\n",
    "import gzip"
   ]
  },
  {
   "cell_type": "code",
   "execution_count": null,
   "metadata": {
    "collapsed": true
   },
   "outputs": [],
   "source": [
    "#data = load('PMPulse_1_6_Vmon-1.pkl')\n",
    "#pickle.dump(data,gzip.open('PMPulse_1_6_Vmon-1.pklz','wb'))"
   ]
  },
  {
   "cell_type": "code",
   "execution_count": null,
   "metadata": {
    "collapsed": false,
    "scrolled": true
   },
   "outputs": [],
   "source": [
    "# Load Data\n",
    "data = pickle.load(gzip.open('PMPulse_1_6_Vmon-1.pklz','rb'))\n",
    "dt = 1/20000. #20 kHz sampling rate\n",
    "T = 8. #sec\n",
    "time = linspace(0,T,T/dt)\n",
    "stim_currents = arange(250,601,50)\n",
    "stim_start = int(1/dt)\n",
    "stim_end = int(5/dt)"
   ]
  },
  {
   "cell_type": "code",
   "execution_count": null,
   "metadata": {
    "collapsed": false
   },
   "outputs": [],
   "source": [
    "print data.shape\n",
    "#the first dimension are sweeps with different strengths of depolarization currents (50pA steps), second dimension is time\n",
    "#stim_current = ???\n",
    "\n",
    "\n",
    "# select the voltage trace of the last sweep\n",
    "sweep_idx = -1\n",
    "V = data[sweep_idx]"
   ]
  },
  {
   "cell_type": "markdown",
   "metadata": {},
   "source": [
    "## Part I"
   ]
  },
  {
   "cell_type": "markdown",
   "metadata": {},
   "source": [
    "__1)__ \n",
    "- How long is the complete voltage trace in seconds?\n",
    "- How long was the stimulation?\n",
    "- Plot the  complete voltage trace\n",
    "- Plot only the period of the stimulation\n",
    "- Set the range of the yaxis to (-75mV, 20mV)."
   ]
  },
  {
   "cell_type": "markdown",
   "metadata": {},
   "source": [
    "__2)__\n",
    "Using the voltage trace, determine the times at which the cell fired action potentials.\n",
    "- How many action potentials did you detect?\n",
    "- What is the average firing rate (i.e. action potentials per second) of this neuron?\n",
    "- Determine the Inter-Spike-Interval distribution"
   ]
  },
  {
   "cell_type": "code",
   "execution_count": null,
   "metadata": {
    "collapsed": false
   },
   "outputs": [],
   "source": [
    "# we need the first element of threshold crossing for each spike\n",
    "# convert the bool array to int (0 and 1), diff is the elementwise difference\n",
    "threshold = 0.02 # V\n",
    "V_above_threshold = data>threshold\n",
    "V_above_th_diff = diff(V_above_threshold.astype(int), axis=-1) == 1\n",
    "V_above_th_diff = c_[zeros(V_above_th_diff.shape[0]),V_above_th_diff]\n",
    "# 1 for spike onset and -1 for spike offset; select only onsets\n",
    "spike_bins = V_above_th_diff == 1 \n",
    "N_spikes = spike_bins.sum(-1)"
   ]
  },
  {
   "cell_type": "code",
   "execution_count": null,
   "metadata": {
    "collapsed": false
   },
   "outputs": [],
   "source": [
    "print 'number of spikes:', N_spikes\n",
    "print 'firing rate:', N_spikes/T, 'Hz'"
   ]
  },
  {
   "cell_type": "code",
   "execution_count": null,
   "metadata": {
    "collapsed": false
   },
   "outputs": [],
   "source": [
    "spike_times = [find(sb)*dt for sb in spike_bins]\n",
    "ISIs =        [diff(st) for st in spike_times]\n",
    "boxplot(ISIs, labels=stim_currents);"
   ]
  },
  {
   "cell_type": "code",
   "execution_count": null,
   "metadata": {
    "collapsed": false
   },
   "outputs": [],
   "source": [
    "plot(ISIs[sweep_idx], '.')"
   ]
  },
  {
   "cell_type": "markdown",
   "metadata": {},
   "source": [
    "__3)__ Spike Triggered Average (STA)\n",
    "\n",
    "Now determine the average waveform of an action potential. To this end you need to get  all AP onset times to obtain a cut-out of about +/- 10 ms around the spike time and average across all the cutouts.\n",
    "\n",
    "- Add to the plot the average waveform ± 1 standard deviation across all APs."
   ]
  },
  {
   "cell_type": "code",
   "execution_count": null,
   "metadata": {
    "collapsed": false
   },
   "outputs": [],
   "source": [
    "cutout = int(10e-3/dt) #10 ms\n",
    "\n",
    "window = arange(-cutout,+cutout)\n",
    "# create an array with the indices of all cut-outs around spikes onset\n",
    "# first, repeat the cut-out window N_spike times\n",
    "spike_select_idx = tile(window,(N_spikes[sweep_idx],1)).T\n",
    "# then, add a spike index to every window\n",
    "spike_select_idx = spike_select_idx + find(spike_bins[sweep_idx])\n",
    "# finally in case the first or the last spike are to close to boundary,\n",
    "# clip the indices to stay within limits\n",
    "spike_select_idx = spike_select_idx.clip(0,len(V)-1)\n",
    "\n",
    "print window.shape, N_spikes, spike_select_idx.shape"
   ]
  },
  {
   "cell_type": "code",
   "execution_count": null,
   "metadata": {
    "collapsed": false
   },
   "outputs": [],
   "source": [
    "# now we can use the index array to get the voltage for all the cut-outs\n",
    "V_STA = V[spike_select_idx].mean(1)\n",
    "plot(linspace(-10,10,cutout*2), V_STA, 'k', lw=2)\n",
    "plot(linspace(-10,10,cutout*2), V[spike_select_idx], color='gray', zorder=-1);\n",
    "xlabel('Time [ms]')\n",
    "ylabel('V [V]')\n"
   ]
  },
  {
   "cell_type": "markdown",
   "metadata": {},
   "source": [
    "__4)__\n",
    "\n",
    "- Get the subthreshold membrane voltage. To do so exclude the AP cutouts (+/- 10 ms around the spike time) from to voltage trace. <BR>Hint: you might use a `masked array` to mask the spikes from the voltage trace<br>i.e. `V_subthres = np.ma.masked_array(V,mask=mask_spikes`).\n",
    "\n",
    "- Plot 500ms of subthreshold voltage before stimulation and 500 ms of subthreshold voltage during stimulation\n",
    "\n",
    "- What is the mean and variance of the subthreshold membrane potential distribution\n",
    "    - before stimulation\n",
    "    - during stimulation\n",
    "    - after stmulation? (discard the first 250ms after stimulation offset)\n",
    "   \n",
    "- compare the subthreshold membrane potential distribution before/during and after stimulation.    "
   ]
  },
  {
   "cell_type": "code",
   "execution_count": null,
   "metadata": {
    "collapsed": false
   },
   "outputs": [],
   "source": [
    "# mask the membrane potential in a window around the spike times\n",
    "wdw_size = int(round(0.01/dt))\n",
    "mask_spikes = array([convolve(sb, ones(wdw_size), mode='same') for sb in spike_bins])"
   ]
  },
  {
   "cell_type": "code",
   "execution_count": null,
   "metadata": {
    "collapsed": false
   },
   "outputs": [],
   "source": [
    "V_subthres = ma.masked_array(data,mask=mask_spikes)"
   ]
  },
  {
   "cell_type": "code",
   "execution_count": null,
   "metadata": {
    "collapsed": false
   },
   "outputs": [],
   "source": [
    "plot(time, V_subthres[sweep_idx])\n",
    "xlim(0.5,1.5)"
   ]
  },
  {
   "cell_type": "code",
   "execution_count": null,
   "metadata": {
    "collapsed": false
   },
   "outputs": [],
   "source": [
    "boxplot([v.compressed()*1e3 for v in V_subthres[:,:stim_start]], showmeans=True);"
   ]
  },
  {
   "cell_type": "code",
   "execution_count": null,
   "metadata": {
    "collapsed": false,
    "scrolled": false
   },
   "outputs": [],
   "source": [
    "boxplot([v.compressed()*1e3 for v in V_subthres[:,stim_start:stim_end]], showmeans=True);"
   ]
  },
  {
   "cell_type": "code",
   "execution_count": null,
   "metadata": {
    "collapsed": false
   },
   "outputs": [],
   "source": [
    "boxplot([v.compressed()*1e3 for v in V_subthres[:,stim_end+5000:]], showmeans=True);"
   ]
  },
  {
   "cell_type": "markdown",
   "metadata": {},
   "source": [
    "__5)__\n",
    "\n",
    "The standard integrate-and-fire (I&F) model of a neuron assumes a fixed voltage threshold for initiating a spike and a fixed reset potential. Can you determine the reset potential and a fixed voltage threshold that determines the onset of each spike?\n",
    "\n",
    "\n",
    "- assume the reset potential is given by the minimum in the voltage after each spike. determine the mean and standart deviation of the reset potential. Does it change over time?\n",
    "\n",
    "\n",
    "- Now look at the distribution of the derivative of the membrane voltage ($\\frac{d}{dt}V_m$)\n",
    "    * assume that the membrane potential crosses threshold when $\\frac{d}{dt}V_m$ is above a critical value. What is a good choice for the critical value of $\\frac{d}{dt}V_m$?\n",
    "    * Plot the distribution of thresholds for individual spikes. Does the threshold change over time?\n",
    "    \n",
    "    * Now, instead of a critical value, assume that the threshold is given by the maxima of $\\frac{d}{dt}V_m$ and repeat the analysis.    "
   ]
  }
 ],
 "metadata": {
  "kernelspec": {
   "display_name": "Python 2",
   "language": "python",
   "name": "python2"
  },
  "language_info": {
   "codemirror_mode": {
    "name": "ipython",
    "version": 2
   },
   "file_extension": ".py",
   "mimetype": "text/x-python",
   "name": "python",
   "nbconvert_exporter": "python",
   "pygments_lexer": "ipython2",
   "version": "2.7.11"
  }
 },
 "nbformat": 4,
 "nbformat_minor": 0
}
